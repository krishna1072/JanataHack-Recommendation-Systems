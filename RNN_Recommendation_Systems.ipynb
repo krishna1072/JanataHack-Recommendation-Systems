{
  "nbformat": 4,
  "nbformat_minor": 0,
  "metadata": {
    "kernelspec": {
      "display_name": "Python 3",
      "language": "python",
      "name": "python3"
    },
    "language_info": {
      "codemirror_mode": {
        "name": "ipython",
        "version": 3
      },
      "file_extension": ".py",
      "mimetype": "text/x-python",
      "name": "python",
      "nbconvert_exporter": "python",
      "pygments_lexer": "ipython3",
      "version": "3.7.7"
    },
    "colab": {
      "name": "RNN_Recommendation_Systems.ipynb",
      "provenance": [],
      "include_colab_link": true
    },
    "accelerator": "GPU"
  },
  "cells": [
    {
      "cell_type": "markdown",
      "metadata": {
        "id": "view-in-github",
        "colab_type": "text"
      },
      "source": [
        "<a href=\"https://colab.research.google.com/github/krishna1072/JanataHack-Recommendation-Systems/blob/master/RNN_Recommendation_Systems.ipynb\" target=\"_parent\"><img src=\"https://colab.research.google.com/assets/colab-badge.svg\" alt=\"Open In Colab\"/></a>"
      ]
    },
    {
      "cell_type": "code",
      "metadata": {
        "id": "iFCHaRNEF4eT",
        "colab_type": "code",
        "colab": {
          "base_uri": "https://localhost:8080/",
          "height": 72
        },
        "outputId": "486aa81f-4e0d-4137-d34b-95f5eb3411d6"
      },
      "source": [
        "# Load Libraries\n",
        "import pandas as pd\n",
        "import numpy as np\n",
        "import zipfile\n",
        "from sklearn.model_selection import train_test_split\n",
        "from sklearn.preprocessing import LabelEncoder\n",
        "\n",
        "from keras.preprocessing.text import Tokenizer\n",
        "from keras.preprocessing.sequence import pad_sequences\n",
        "from keras.models import Model\n",
        "from keras.layers import Dense,Embedding,LSTM,Dropout,Bidirectional,Input,BatchNormalization\n",
        "from keras.optimizers import Adam\n",
        "from keras.callbacks import EarlyStopping,ModelCheckpoint\n",
        "\n",
        "pd.options.display.max_rows\n",
        "pd.set_option('display.max_colwidth', -1)"
      ],
      "execution_count": null,
      "outputs": [
        {
          "output_type": "stream",
          "text": [
            "/usr/local/lib/python3.6/dist-packages/ipykernel_launcher.py:16: FutureWarning: Passing a negative integer is deprecated in version 1.0 and will not be supported in future version. Instead, use None to not limit the column width.\n",
            "  app.launch_new_instance()\n"
          ],
          "name": "stderr"
        }
      ]
    },
    {
      "cell_type": "code",
      "metadata": {
        "id": "2VJ0bvyYF4fE",
        "colab_type": "code",
        "colab": {
          "base_uri": "https://localhost:8080/",
          "height": 1000
        },
        "outputId": "590619f1-d92e-4eb4-fa42-2a4648031227"
      },
      "source": [
        "# Load train data\n",
        "zf = zipfile.ZipFile('/train_mddNHeX.zip') # having First.csv zipped file.\n",
        "train = pd.read_csv(zf.open('train.csv'))\n",
        "display(train.head())\n",
        "train.info()\n",
        "\n",
        "# Load all the challenges\n",
        "challenges = pd.read_csv(zf.open('challenge_data.csv'))\n",
        "challenges['publish_date'] = pd.to_datetime(challenges['publish_date'])\n",
        "display(challenges.head())\n",
        "challenges.info()\n",
        "\n",
        "# Load test data\n",
        "zf = zipfile.ZipFile('/test_HLxMpl7.zip') # having First.csv zipped file.\n",
        "test = pd.read_csv(zf.open('test.csv'))\n",
        "display(test.head())\n",
        "test.info()"
      ],
      "execution_count": null,
      "outputs": [
        {
          "output_type": "display_data",
          "data": {
            "text/html": [
              "<div>\n",
              "<style scoped>\n",
              "    .dataframe tbody tr th:only-of-type {\n",
              "        vertical-align: middle;\n",
              "    }\n",
              "\n",
              "    .dataframe tbody tr th {\n",
              "        vertical-align: top;\n",
              "    }\n",
              "\n",
              "    .dataframe thead th {\n",
              "        text-align: right;\n",
              "    }\n",
              "</style>\n",
              "<table border=\"1\" class=\"dataframe\">\n",
              "  <thead>\n",
              "    <tr style=\"text-align: right;\">\n",
              "      <th></th>\n",
              "      <th>user_sequence</th>\n",
              "      <th>user_id</th>\n",
              "      <th>challenge_sequence</th>\n",
              "      <th>challenge</th>\n",
              "    </tr>\n",
              "  </thead>\n",
              "  <tbody>\n",
              "    <tr>\n",
              "      <th>0</th>\n",
              "      <td>4576_1</td>\n",
              "      <td>4576</td>\n",
              "      <td>1</td>\n",
              "      <td>CI23714</td>\n",
              "    </tr>\n",
              "    <tr>\n",
              "      <th>1</th>\n",
              "      <td>4576_2</td>\n",
              "      <td>4576</td>\n",
              "      <td>2</td>\n",
              "      <td>CI23855</td>\n",
              "    </tr>\n",
              "    <tr>\n",
              "      <th>2</th>\n",
              "      <td>4576_3</td>\n",
              "      <td>4576</td>\n",
              "      <td>3</td>\n",
              "      <td>CI24917</td>\n",
              "    </tr>\n",
              "    <tr>\n",
              "      <th>3</th>\n",
              "      <td>4576_4</td>\n",
              "      <td>4576</td>\n",
              "      <td>4</td>\n",
              "      <td>CI23663</td>\n",
              "    </tr>\n",
              "    <tr>\n",
              "      <th>4</th>\n",
              "      <td>4576_5</td>\n",
              "      <td>4576</td>\n",
              "      <td>5</td>\n",
              "      <td>CI23933</td>\n",
              "    </tr>\n",
              "  </tbody>\n",
              "</table>\n",
              "</div>"
            ],
            "text/plain": [
              "  user_sequence  user_id  challenge_sequence challenge\n",
              "0  4576_1        4576     1                   CI23714 \n",
              "1  4576_2        4576     2                   CI23855 \n",
              "2  4576_3        4576     3                   CI24917 \n",
              "3  4576_4        4576     4                   CI23663 \n",
              "4  4576_5        4576     5                   CI23933 "
            ]
          },
          "metadata": {
            "tags": []
          }
        },
        {
          "output_type": "stream",
          "text": [
            "<class 'pandas.core.frame.DataFrame'>\n",
            "RangeIndex: 903916 entries, 0 to 903915\n",
            "Data columns (total 4 columns):\n",
            " #   Column              Non-Null Count   Dtype \n",
            "---  ------              --------------   ----- \n",
            " 0   user_sequence       903916 non-null  object\n",
            " 1   user_id             903916 non-null  int64 \n",
            " 2   challenge_sequence  903916 non-null  int64 \n",
            " 3   challenge           903916 non-null  object\n",
            "dtypes: int64(2), object(2)\n",
            "memory usage: 27.6+ MB\n"
          ],
          "name": "stdout"
        },
        {
          "output_type": "display_data",
          "data": {
            "text/html": [
              "<div>\n",
              "<style scoped>\n",
              "    .dataframe tbody tr th:only-of-type {\n",
              "        vertical-align: middle;\n",
              "    }\n",
              "\n",
              "    .dataframe tbody tr th {\n",
              "        vertical-align: top;\n",
              "    }\n",
              "\n",
              "    .dataframe thead th {\n",
              "        text-align: right;\n",
              "    }\n",
              "</style>\n",
              "<table border=\"1\" class=\"dataframe\">\n",
              "  <thead>\n",
              "    <tr style=\"text-align: right;\">\n",
              "      <th></th>\n",
              "      <th>challenge_ID</th>\n",
              "      <th>programming_language</th>\n",
              "      <th>challenge_series_ID</th>\n",
              "      <th>total_submissions</th>\n",
              "      <th>publish_date</th>\n",
              "      <th>author_ID</th>\n",
              "      <th>author_gender</th>\n",
              "      <th>author_org_ID</th>\n",
              "      <th>category_id</th>\n",
              "    </tr>\n",
              "  </thead>\n",
              "  <tbody>\n",
              "    <tr>\n",
              "      <th>0</th>\n",
              "      <td>CI23478</td>\n",
              "      <td>2</td>\n",
              "      <td>SI2445</td>\n",
              "      <td>37.0</td>\n",
              "      <td>2006-06-05</td>\n",
              "      <td>AI563576</td>\n",
              "      <td>M</td>\n",
              "      <td>AOI100001</td>\n",
              "      <td>NaN</td>\n",
              "    </tr>\n",
              "    <tr>\n",
              "      <th>1</th>\n",
              "      <td>CI23479</td>\n",
              "      <td>2</td>\n",
              "      <td>SI2435</td>\n",
              "      <td>48.0</td>\n",
              "      <td>2002-10-17</td>\n",
              "      <td>AI563577</td>\n",
              "      <td>M</td>\n",
              "      <td>AOI100002</td>\n",
              "      <td>32.0</td>\n",
              "    </tr>\n",
              "    <tr>\n",
              "      <th>2</th>\n",
              "      <td>CI23480</td>\n",
              "      <td>1</td>\n",
              "      <td>SI2435</td>\n",
              "      <td>15.0</td>\n",
              "      <td>2002-10-16</td>\n",
              "      <td>AI563578</td>\n",
              "      <td>M</td>\n",
              "      <td>AOI100003</td>\n",
              "      <td>NaN</td>\n",
              "    </tr>\n",
              "    <tr>\n",
              "      <th>3</th>\n",
              "      <td>CI23481</td>\n",
              "      <td>1</td>\n",
              "      <td>SI2710</td>\n",
              "      <td>236.0</td>\n",
              "      <td>2003-09-19</td>\n",
              "      <td>AI563579</td>\n",
              "      <td>M</td>\n",
              "      <td>AOI100004</td>\n",
              "      <td>70.0</td>\n",
              "    </tr>\n",
              "    <tr>\n",
              "      <th>4</th>\n",
              "      <td>CI23482</td>\n",
              "      <td>2</td>\n",
              "      <td>SI2440</td>\n",
              "      <td>137.0</td>\n",
              "      <td>2002-03-21</td>\n",
              "      <td>AI563580</td>\n",
              "      <td>M</td>\n",
              "      <td>AOI100005</td>\n",
              "      <td>NaN</td>\n",
              "    </tr>\n",
              "  </tbody>\n",
              "</table>\n",
              "</div>"
            ],
            "text/plain": [
              "  challenge_ID  programming_language  ... author_org_ID  category_id\n",
              "0  CI23478      2                     ...  AOI100001    NaN         \n",
              "1  CI23479      2                     ...  AOI100002     32.0       \n",
              "2  CI23480      1                     ...  AOI100003    NaN         \n",
              "3  CI23481      1                     ...  AOI100004     70.0       \n",
              "4  CI23482      2                     ...  AOI100005    NaN         \n",
              "\n",
              "[5 rows x 9 columns]"
            ]
          },
          "metadata": {
            "tags": []
          }
        },
        {
          "output_type": "stream",
          "text": [
            "<class 'pandas.core.frame.DataFrame'>\n",
            "RangeIndex: 5606 entries, 0 to 5605\n",
            "Data columns (total 9 columns):\n",
            " #   Column                Non-Null Count  Dtype         \n",
            "---  ------                --------------  -----         \n",
            " 0   challenge_ID          5606 non-null   object        \n",
            " 1   programming_language  5606 non-null   int64         \n",
            " 2   challenge_series_ID   5594 non-null   object        \n",
            " 3   total_submissions     5254 non-null   float64       \n",
            " 4   publish_date          5606 non-null   datetime64[ns]\n",
            " 5   author_ID             5567 non-null   object        \n",
            " 6   author_gender         5509 non-null   object        \n",
            " 7   author_org_ID         5358 non-null   object        \n",
            " 8   category_id           3765 non-null   float64       \n",
            "dtypes: datetime64[ns](1), float64(2), int64(1), object(5)\n",
            "memory usage: 394.3+ KB\n"
          ],
          "name": "stdout"
        },
        {
          "output_type": "display_data",
          "data": {
            "text/html": [
              "<div>\n",
              "<style scoped>\n",
              "    .dataframe tbody tr th:only-of-type {\n",
              "        vertical-align: middle;\n",
              "    }\n",
              "\n",
              "    .dataframe tbody tr th {\n",
              "        vertical-align: top;\n",
              "    }\n",
              "\n",
              "    .dataframe thead th {\n",
              "        text-align: right;\n",
              "    }\n",
              "</style>\n",
              "<table border=\"1\" class=\"dataframe\">\n",
              "  <thead>\n",
              "    <tr style=\"text-align: right;\">\n",
              "      <th></th>\n",
              "      <th>user_sequence</th>\n",
              "      <th>user_id</th>\n",
              "      <th>challenge_sequence</th>\n",
              "      <th>challenge</th>\n",
              "    </tr>\n",
              "  </thead>\n",
              "  <tbody>\n",
              "    <tr>\n",
              "      <th>0</th>\n",
              "      <td>4577_1</td>\n",
              "      <td>4577</td>\n",
              "      <td>1</td>\n",
              "      <td>CI23855</td>\n",
              "    </tr>\n",
              "    <tr>\n",
              "      <th>1</th>\n",
              "      <td>4577_2</td>\n",
              "      <td>4577</td>\n",
              "      <td>2</td>\n",
              "      <td>CI23933</td>\n",
              "    </tr>\n",
              "    <tr>\n",
              "      <th>2</th>\n",
              "      <td>4577_3</td>\n",
              "      <td>4577</td>\n",
              "      <td>3</td>\n",
              "      <td>CI24917</td>\n",
              "    </tr>\n",
              "    <tr>\n",
              "      <th>3</th>\n",
              "      <td>4577_4</td>\n",
              "      <td>4577</td>\n",
              "      <td>4</td>\n",
              "      <td>CI24915</td>\n",
              "    </tr>\n",
              "    <tr>\n",
              "      <th>4</th>\n",
              "      <td>4577_5</td>\n",
              "      <td>4577</td>\n",
              "      <td>5</td>\n",
              "      <td>CI23714</td>\n",
              "    </tr>\n",
              "  </tbody>\n",
              "</table>\n",
              "</div>"
            ],
            "text/plain": [
              "  user_sequence  user_id  challenge_sequence challenge\n",
              "0  4577_1        4577     1                   CI23855 \n",
              "1  4577_2        4577     2                   CI23933 \n",
              "2  4577_3        4577     3                   CI24917 \n",
              "3  4577_4        4577     4                   CI24915 \n",
              "4  4577_5        4577     5                   CI23714 "
            ]
          },
          "metadata": {
            "tags": []
          }
        },
        {
          "output_type": "stream",
          "text": [
            "<class 'pandas.core.frame.DataFrame'>\n",
            "RangeIndex: 397320 entries, 0 to 397319\n",
            "Data columns (total 4 columns):\n",
            " #   Column              Non-Null Count   Dtype \n",
            "---  ------              --------------   ----- \n",
            " 0   user_sequence       397320 non-null  object\n",
            " 1   user_id             397320 non-null  int64 \n",
            " 2   challenge_sequence  397320 non-null  int64 \n",
            " 3   challenge           397320 non-null  object\n",
            "dtypes: int64(2), object(2)\n",
            "memory usage: 12.1+ MB\n"
          ],
          "name": "stdout"
        }
      ]
    },
    {
      "cell_type": "code",
      "metadata": {
        "id": "VXbWLzkfF4fc",
        "colab_type": "code",
        "colab": {}
      },
      "source": [
        "# Create labels\n",
        "label = train[train.challenge_sequence > 10][['user_id','challenge']]\n",
        "label.rename(columns={'challenge':'label'},inplace=True)"
      ],
      "execution_count": null,
      "outputs": []
    },
    {
      "cell_type": "code",
      "metadata": {
        "id": "vY-jyzBRF4f6",
        "colab_type": "code",
        "colab": {}
      },
      "source": [
        "# Treat the sequence of challenges as text\n",
        "df = train[train.challenge_sequence <= 10].groupby('user_id').challenge.aggregate(lambda x: ' '.join(x)).reset_index()"
      ],
      "execution_count": null,
      "outputs": []
    },
    {
      "cell_type": "code",
      "metadata": {
        "id": "Rjug37qcF4gG",
        "colab_type": "code",
        "colab": {}
      },
      "source": [
        "# Merge Labels\n",
        "df = df.merge(label)"
      ],
      "execution_count": null,
      "outputs": []
    },
    {
      "cell_type": "code",
      "metadata": {
        "id": "ds0nKsnoF4gZ",
        "colab_type": "code",
        "colab": {}
      },
      "source": [
        "# Validation split for early stopping\n",
        "df_train, df_validation = train_test_split(df.sample(frac=1,random_state=123), test_size=0.05, random_state=123)"
      ],
      "execution_count": null,
      "outputs": []
    },
    {
      "cell_type": "code",
      "metadata": {
        "id": "GxPratPTF4hI",
        "colab_type": "code",
        "colab": {}
      },
      "source": [
        "# Encode challenges\n",
        "encoder = LabelEncoder()\n",
        "encoder.fit(challenges['challenge_ID'])\n",
        "df_train['brand_id_encoded'] = encoder.transform(df_train.label)\n",
        "df_validation['brand_id_encoded'] = encoder.transform(df_validation.label)"
      ],
      "execution_count": null,
      "outputs": []
    },
    {
      "cell_type": "code",
      "metadata": {
        "id": "1Y2TtKUPF4hg",
        "colab_type": "code",
        "colab": {}
      },
      "source": [
        "# Tokenize text\n",
        "tokenizer = Tokenizer()\n",
        "tokenizer.fit_on_texts(df_train['challenge'])"
      ],
      "execution_count": null,
      "outputs": []
    },
    {
      "cell_type": "code",
      "metadata": {
        "id": "jksu34p_F4hr",
        "colab_type": "code",
        "colab": {}
      },
      "source": [
        "# Constants\n",
        "NB_WORDS = len(tokenizer.word_index)\n",
        "MAX_SEQUENCE_LENGTH = 10\n",
        "N_CATEGORIES = challenges.shape[0]"
      ],
      "execution_count": null,
      "outputs": []
    },
    {
      "cell_type": "code",
      "metadata": {
        "id": "V2I4beLuF4iK",
        "colab_type": "code",
        "colab": {}
      },
      "source": [
        "# Create sequences\n",
        "sequences_train = tokenizer.texts_to_sequences(df_train['challenge'])\n",
        "sequences_validation = tokenizer.texts_to_sequences(df_validation['challenge'])"
      ],
      "execution_count": null,
      "outputs": []
    },
    {
      "cell_type": "code",
      "metadata": {
        "id": "7zH8AZ0IF4ia",
        "colab_type": "code",
        "colab": {}
      },
      "source": [
        "# Pad sequences\n",
        "x_train = pad_sequences(sequences_train, maxlen=MAX_SEQUENCE_LENGTH, padding='post', truncating='post')\n",
        "x_validation = pad_sequences(sequences_validation, maxlen=MAX_SEQUENCE_LENGTH, padding='post', truncating='post')"
      ],
      "execution_count": null,
      "outputs": []
    },
    {
      "cell_type": "code",
      "metadata": {
        "id": "ZxrFZcLVF4il",
        "colab_type": "code",
        "colab": {}
      },
      "source": [
        "# Set Labels\n",
        "y_train = df_train['brand_id_encoded'].values\n",
        "y_validation= df_validation['brand_id_encoded'].values"
      ],
      "execution_count": null,
      "outputs": []
    },
    {
      "cell_type": "code",
      "metadata": {
        "id": "7aV1E1QCF4i6",
        "colab_type": "code",
        "colab": {}
      },
      "source": [
        "# NN architecture\n",
        "def get_model(path='',lr=0.001):\n",
        "    adam = Adam(lr=lr)\n",
        "    inp = Input(shape=(MAX_SEQUENCE_LENGTH, ))\n",
        "    x = Embedding(NB_WORDS,256)(inp)\n",
        "    x = BatchNormalization()(x)\n",
        "    x = Bidirectional(LSTM(128, dropout=0.1, recurrent_dropout=0.1))(x)\n",
        "    x = Dropout(0.4)(x)\n",
        "    x = Dense(N_CATEGORIES, activation=\"softmax\")(x)\n",
        "    model = Model(inputs=inp, outputs=x)\n",
        "    if path != '':\n",
        "        model.load_weights(path)\n",
        "    model.compile(loss='sparse_categorical_crossentropy', optimizer=adam, metrics=['accuracy'])\n",
        "    return model"
      ],
      "execution_count": null,
      "outputs": []
    },
    {
      "cell_type": "code",
      "metadata": {
        "id": "L10BHgndF4jE",
        "colab_type": "code",
        "colab": {}
      },
      "source": [
        "# Initialize the model\n",
        "model = get_model()"
      ],
      "execution_count": null,
      "outputs": []
    },
    {
      "cell_type": "code",
      "metadata": {
        "id": "U4Jw67VFF4jW",
        "colab_type": "code",
        "colab": {}
      },
      "source": [
        "# Model callbacks\n",
        "path = 'best_model_weights'\n",
        "es_callback = EarlyStopping(monitor=\"val_loss\", patience=5)\n",
        "mc_callback = ModelCheckpoint('{}.hdf5'.format(path), monitor='val_loss', verbose=0, save_best_only=True, save_weights_only=True, mode='auto', period=1)\n",
        "callbacks = [es_callback,mc_callback]"
      ],
      "execution_count": null,
      "outputs": []
    },
    {
      "cell_type": "code",
      "metadata": {
        "id": "1_rDKMayF4j7",
        "colab_type": "code",
        "colab": {
          "base_uri": "https://localhost:8080/",
          "height": 280
        },
        "outputId": "2382f73d-8171-414d-f0bb-b6c110aa3d09"
      },
      "source": [
        "# Fit the model\n",
        "model.fit(x_train,\n",
        "          y_train,\n",
        "          epochs=100,\n",
        "          batch_size=1024,\n",
        "          validation_data=(x_validation, y_validation),\n",
        "          callbacks = callbacks\n",
        ")"
      ],
      "execution_count": null,
      "outputs": [
        {
          "output_type": "stream",
          "text": [
            "Train on 198166 samples, validate on 10430 samples\n",
            "Epoch 1/100\n",
            "198166/198166 [==============================] - 11s 57us/step - loss: 3.4948 - accuracy: 0.1646 - val_loss: 4.3845 - val_accuracy: 0.0758\n",
            "Epoch 2/100\n",
            "198166/198166 [==============================] - 11s 55us/step - loss: 3.4630 - accuracy: 0.1668 - val_loss: 4.3956 - val_accuracy: 0.0766\n",
            "Epoch 3/100\n",
            "198166/198166 [==============================] - 11s 56us/step - loss: 3.4342 - accuracy: 0.1699 - val_loss: 4.4080 - val_accuracy: 0.0748\n",
            "Epoch 4/100\n",
            "198166/198166 [==============================] - 11s 55us/step - loss: 3.4096 - accuracy: 0.1706 - val_loss: 4.4158 - val_accuracy: 0.0739\n",
            "Epoch 5/100\n",
            "198166/198166 [==============================] - 11s 55us/step - loss: 3.3864 - accuracy: 0.1733 - val_loss: 4.4321 - val_accuracy: 0.0719\n",
            "Epoch 6/100\n",
            "198166/198166 [==============================] - 11s 55us/step - loss: 3.3654 - accuracy: 0.1752 - val_loss: 4.4436 - val_accuracy: 0.0739\n"
          ],
          "name": "stdout"
        },
        {
          "output_type": "execute_result",
          "data": {
            "text/plain": [
              "<keras.callbacks.callbacks.History at 0x7fe17e0f8160>"
            ]
          },
          "metadata": {
            "tags": []
          },
          "execution_count": 26
        }
      ]
    },
    {
      "cell_type": "code",
      "metadata": {
        "id": "ZXxSKvGFF4kR",
        "colab_type": "code",
        "colab": {}
      },
      "source": [
        "# Load best weights\n",
        "model = get_model('{}.hdf5'.format(path))"
      ],
      "execution_count": null,
      "outputs": []
    },
    {
      "cell_type": "code",
      "metadata": {
        "id": "oxgFelNiF4kb",
        "colab_type": "code",
        "colab": {}
      },
      "source": [
        "# Test preprocessing\n",
        "def padding(text):\n",
        "\treturn pad_sequences(tokenizer.texts_to_sequences(text), maxlen=MAX_SEQUENCE_LENGTH, padding='post', truncating='post')\n",
        "test_text = test[test.challenge_sequence <= 10].groupby('user_id').challenge.aggregate(lambda x: ' '.join(x)).reset_index()\n",
        "x_test = padding(test_text.challenge)"
      ],
      "execution_count": null,
      "outputs": []
    },
    {
      "cell_type": "code",
      "metadata": {
        "id": "uHxkImTjF4ku",
        "colab_type": "code",
        "colab": {}
      },
      "source": [
        "# Get top 3 predictions for each user\n",
        "pred = model.predict(x_test,batch_size=2048)\n",
        "pred = pred.argsort(axis=1)[:,-3:][:,::-1]"
      ],
      "execution_count": null,
      "outputs": []
    },
    {
      "cell_type": "code",
      "metadata": {
        "id": "eBPrQ2z5F4k5",
        "colab_type": "code",
        "colab": {}
      },
      "source": [
        "# Write Predictions\n",
        "df_list = []\n",
        "for i in range(3):\n",
        "\ttest_11 = test_text[['user_id']]\n",
        "\ttest_11['user_sequence'] = test_11.user_id.astype(str) + '_'+str(i+11)\n",
        "\ttest_11['challenge'] = encoder.inverse_transform(pred[:,i])\n",
        "\tdf_list.append(test_11[['user_sequence','challenge']])\n",
        "pd.concat(df_list).to_csv('/RNN_submission.csv',index=False)"
      ],
      "execution_count": null,
      "outputs": []
    }
  ]
}